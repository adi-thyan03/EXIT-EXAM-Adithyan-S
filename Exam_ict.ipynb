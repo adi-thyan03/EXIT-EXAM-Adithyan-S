{
 "cells": [
  {
   "cell_type": "code",
   "execution_count": 5,
   "id": "907a2acc-ca40-4041-8714-2069e399dbb8",
   "metadata": {},
   "outputs": [],
   "source": [
    "import pandas as pd\n",
    "import numpy as np\n"
   ]
  },
  {
   "cell_type": "code",
   "execution_count": 113,
   "id": "1b8d552a-9f20-4b31-9192-a0e29829b03a",
   "metadata": {},
   "outputs": [],
   "source": [
    "df = pd.read_csv(r\"C:\\Users\\adi33\\Downloads\\dataset1(csv).csv\")"
   ]
  },
  {
   "cell_type": "code",
   "execution_count": 17,
   "id": "757ee03d-7509-4b94-816e-e707451f1c88",
   "metadata": {},
   "outputs": [
    {
     "name": "stdout",
     "output_type": "stream",
     "text": [
      "<class 'pandas.core.frame.DataFrame'>\n",
      "RangeIndex: 100000 entries, 0 to 99999\n",
      "Data columns (total 9 columns):\n",
      " #   Column             Non-Null Count   Dtype \n",
      "---  ------             --------------   ----- \n",
      " 0   Month              100000 non-null  object\n",
      " 1   DayofMonth         99995 non-null   object\n",
      " 2   DayOfWeek          100000 non-null  object\n",
      " 3   DepTime            100000 non-null  int64 \n",
      " 4   UniqueCarrier      99996 non-null   object\n",
      " 5   Origin             99996 non-null   object\n",
      " 6   Dest               99999 non-null   object\n",
      " 7   Distance           100000 non-null  int64 \n",
      " 8   dep_delayed_15min  100000 non-null  object\n",
      "dtypes: int64(2), object(7)\n",
      "memory usage: 6.9+ MB\n"
     ]
    }
   ],
   "source": [
    "df.info()"
   ]
  },
  {
   "cell_type": "code",
   "execution_count": 19,
   "id": "9f9ad9cb-dbd2-462d-9a80-edfdcc5f5634",
   "metadata": {},
   "outputs": [
    {
     "data": {
      "text/html": [
       "<div>\n",
       "<style scoped>\n",
       "    .dataframe tbody tr th:only-of-type {\n",
       "        vertical-align: middle;\n",
       "    }\n",
       "\n",
       "    .dataframe tbody tr th {\n",
       "        vertical-align: top;\n",
       "    }\n",
       "\n",
       "    .dataframe thead th {\n",
       "        text-align: right;\n",
       "    }\n",
       "</style>\n",
       "<table border=\"1\" class=\"dataframe\">\n",
       "  <thead>\n",
       "    <tr style=\"text-align: right;\">\n",
       "      <th></th>\n",
       "      <th>Month</th>\n",
       "      <th>DayofMonth</th>\n",
       "      <th>DayOfWeek</th>\n",
       "      <th>DepTime</th>\n",
       "      <th>UniqueCarrier</th>\n",
       "      <th>Origin</th>\n",
       "      <th>Dest</th>\n",
       "      <th>Distance</th>\n",
       "      <th>dep_delayed_15min</th>\n",
       "    </tr>\n",
       "  </thead>\n",
       "  <tbody>\n",
       "    <tr>\n",
       "      <th>0</th>\n",
       "      <td>c-8</td>\n",
       "      <td>c-21</td>\n",
       "      <td>c-7</td>\n",
       "      <td>1934</td>\n",
       "      <td>AA</td>\n",
       "      <td>ATL</td>\n",
       "      <td>DFW</td>\n",
       "      <td>732</td>\n",
       "      <td>N</td>\n",
       "    </tr>\n",
       "    <tr>\n",
       "      <th>1</th>\n",
       "      <td>c-4</td>\n",
       "      <td>c-20</td>\n",
       "      <td>c-3</td>\n",
       "      <td>1548</td>\n",
       "      <td>US</td>\n",
       "      <td>PIT</td>\n",
       "      <td>MCO</td>\n",
       "      <td>834</td>\n",
       "      <td>N</td>\n",
       "    </tr>\n",
       "    <tr>\n",
       "      <th>2</th>\n",
       "      <td>c-9</td>\n",
       "      <td>c-2</td>\n",
       "      <td>c-5</td>\n",
       "      <td>1422</td>\n",
       "      <td>XE</td>\n",
       "      <td>RDU</td>\n",
       "      <td>CLE</td>\n",
       "      <td>416</td>\n",
       "      <td>N</td>\n",
       "    </tr>\n",
       "    <tr>\n",
       "      <th>3</th>\n",
       "      <td>c-11</td>\n",
       "      <td>c-25</td>\n",
       "      <td>c-6</td>\n",
       "      <td>1015</td>\n",
       "      <td>OO</td>\n",
       "      <td>DEN</td>\n",
       "      <td>MEM</td>\n",
       "      <td>872</td>\n",
       "      <td>N</td>\n",
       "    </tr>\n",
       "    <tr>\n",
       "      <th>4</th>\n",
       "      <td>c-10</td>\n",
       "      <td>c-7</td>\n",
       "      <td>c-6</td>\n",
       "      <td>1828</td>\n",
       "      <td>WN</td>\n",
       "      <td>MDW</td>\n",
       "      <td>OMA</td>\n",
       "      <td>423</td>\n",
       "      <td>Y</td>\n",
       "    </tr>\n",
       "  </tbody>\n",
       "</table>\n",
       "</div>"
      ],
      "text/plain": [
       "  Month DayofMonth DayOfWeek  DepTime UniqueCarrier Origin Dest  Distance  \\\n",
       "0   c-8       c-21       c-7     1934            AA    ATL  DFW       732   \n",
       "1   c-4       c-20       c-3     1548            US    PIT  MCO       834   \n",
       "2   c-9        c-2       c-5     1422            XE    RDU  CLE       416   \n",
       "3  c-11       c-25       c-6     1015            OO    DEN  MEM       872   \n",
       "4  c-10        c-7       c-6     1828            WN    MDW  OMA       423   \n",
       "\n",
       "  dep_delayed_15min  \n",
       "0                 N  \n",
       "1                 N  \n",
       "2                 N  \n",
       "3                 N  \n",
       "4                 Y  "
      ]
     },
     "execution_count": 19,
     "metadata": {},
     "output_type": "execute_result"
    }
   ],
   "source": [
    "df.head()"
   ]
  },
  {
   "cell_type": "code",
   "execution_count": 21,
   "id": "65756b6b-a66a-41af-8160-045f42595701",
   "metadata": {},
   "outputs": [
    {
     "data": {
      "text/html": [
       "<div>\n",
       "<style scoped>\n",
       "    .dataframe tbody tr th:only-of-type {\n",
       "        vertical-align: middle;\n",
       "    }\n",
       "\n",
       "    .dataframe tbody tr th {\n",
       "        vertical-align: top;\n",
       "    }\n",
       "\n",
       "    .dataframe thead th {\n",
       "        text-align: right;\n",
       "    }\n",
       "</style>\n",
       "<table border=\"1\" class=\"dataframe\">\n",
       "  <thead>\n",
       "    <tr style=\"text-align: right;\">\n",
       "      <th></th>\n",
       "      <th>DepTime</th>\n",
       "      <th>Distance</th>\n",
       "    </tr>\n",
       "  </thead>\n",
       "  <tbody>\n",
       "    <tr>\n",
       "      <th>count</th>\n",
       "      <td>100000.000000</td>\n",
       "      <td>100000.00000</td>\n",
       "    </tr>\n",
       "    <tr>\n",
       "      <th>mean</th>\n",
       "      <td>1341.523880</td>\n",
       "      <td>729.39716</td>\n",
       "    </tr>\n",
       "    <tr>\n",
       "      <th>std</th>\n",
       "      <td>476.378445</td>\n",
       "      <td>574.61686</td>\n",
       "    </tr>\n",
       "    <tr>\n",
       "      <th>min</th>\n",
       "      <td>1.000000</td>\n",
       "      <td>30.00000</td>\n",
       "    </tr>\n",
       "    <tr>\n",
       "      <th>25%</th>\n",
       "      <td>931.000000</td>\n",
       "      <td>317.00000</td>\n",
       "    </tr>\n",
       "    <tr>\n",
       "      <th>50%</th>\n",
       "      <td>1330.000000</td>\n",
       "      <td>575.00000</td>\n",
       "    </tr>\n",
       "    <tr>\n",
       "      <th>75%</th>\n",
       "      <td>1733.000000</td>\n",
       "      <td>957.00000</td>\n",
       "    </tr>\n",
       "    <tr>\n",
       "      <th>max</th>\n",
       "      <td>2534.000000</td>\n",
       "      <td>4962.00000</td>\n",
       "    </tr>\n",
       "  </tbody>\n",
       "</table>\n",
       "</div>"
      ],
      "text/plain": [
       "             DepTime      Distance\n",
       "count  100000.000000  100000.00000\n",
       "mean     1341.523880     729.39716\n",
       "std       476.378445     574.61686\n",
       "min         1.000000      30.00000\n",
       "25%       931.000000     317.00000\n",
       "50%      1330.000000     575.00000\n",
       "75%      1733.000000     957.00000\n",
       "max      2534.000000    4962.00000"
      ]
     },
     "execution_count": 21,
     "metadata": {},
     "output_type": "execute_result"
    }
   ],
   "source": [
    "df.describe()"
   ]
  },
  {
   "cell_type": "code",
   "execution_count": 115,
   "id": "22983ad8-6edf-4a59-b062-a50f8d4c790e",
   "metadata": {},
   "outputs": [
    {
     "name": "stdout",
     "output_type": "stream",
     "text": [
      "dep time mean is: 1341.52388\n"
     ]
    }
   ],
   "source": [
    "#\n",
    "dep_time_mean = df['DepTime'].mean()\n",
    "print(\"dep time mean is:\",dep_time_mean)"
   ]
  },
  {
   "cell_type": "code",
   "execution_count": 29,
   "id": "3facf776-4ea2-4782-ba92-950712341440",
   "metadata": {},
   "outputs": [
    {
     "name": "stdout",
     "output_type": "stream",
     "text": [
      "dep time median is: 1330.0\n"
     ]
    }
   ],
   "source": [
    "#1\n",
    "dep_time_median = df['DepTime'].median()\n",
    "print(\"dep time median is:\",dep_time_median)"
   ]
  },
  {
   "cell_type": "code",
   "execution_count": 33,
   "id": "1c5b5cef-6c6a-4131-a539-0d140a951e4e",
   "metadata": {},
   "outputs": [
    {
     "name": "stdout",
     "output_type": "stream",
     "text": [
      "dep time Standard Deviation is: 476.3784446151376\n"
     ]
    }
   ],
   "source": [
    "#1\n",
    "dep_time_std = df['DepTime'].std()\n",
    "print(\"dep time Standard Deviation is:\", dep_time_std)"
   ]
  },
  {
   "cell_type": "code",
   "execution_count": 35,
   "id": "d512f671-6632-400e-8a09-f924451869c7",
   "metadata": {},
   "outputs": [
    {
     "name": "stdout",
     "output_type": "stream",
     "text": [
      "Distribution of flights by carrier: UniqueCarrier\n",
      "WN    15080\n",
      "AA     9418\n",
      "DL     8128\n",
      "MQ     7442\n",
      "OO     7390\n",
      "UA     6876\n",
      "US     6482\n",
      "NW     6402\n",
      "XE     5901\n",
      "OH     4594\n",
      "CO     4334\n",
      "EV     3930\n",
      "FL     3039\n",
      "AS     2222\n",
      "YV     2128\n",
      "B6     1838\n",
      "HP     1378\n",
      "F9     1006\n",
      "DH      966\n",
      "HA      762\n",
      "TZ      446\n",
      "AQ      234\n",
      "Name: count, dtype: int64\n",
      "Carrier with the most flights: WN with 15080 flights\n"
     ]
    }
   ],
   "source": [
    "#2\n",
    "carrier_distribution = df['UniqueCarrier'].value_counts()\n",
    "top_carrier = carrier_distribution.idxmax()\n",
    "top_carrier_count = carrier_distribution.max()\n",
    "\n",
    "print(\"Distribution of flights by carrier:\", carrier_distribution)\n",
    "print(\"Carrier with the most flights:\", top_carrier, \"with\", top_carrier_count, \"flights\")\n"
   ]
  },
  {
   "cell_type": "code",
   "execution_count": 37,
   "id": "75402b0c-2fd3-49df-9b86-0859be4f71c9",
   "metadata": {},
   "outputs": [
    {
     "name": "stdout",
     "output_type": "stream",
     "text": [
      "Distribution of flights by day of the week: DayOfWeek\n",
      "c-4    14736\n",
      "c-5    14657\n",
      "c-2    14604\n",
      "c-1    14569\n",
      "c-3    14508\n",
      "c-7    14097\n",
      "c-6    12829\n",
      "Name: count, dtype: int64\n",
      "Day with the highest number of flights: c-4 with 14736 flights\n"
     ]
    }
   ],
   "source": [
    "#3\n",
    "day_distribution = df['DayOfWeek'].value_counts()\n",
    "top_day = day_distribution.idxmax()\n",
    "top_day_count = day_distribution.max()\n",
    "print(\"Distribution of flights by day of the week:\", day_distribution)\n",
    "print(\"Day with the highest number of flights:\", top_day, \"with\", top_day_count, \"flights\")\n"
   ]
  },
  {
   "cell_type": "code",
   "execution_count": 39,
   "id": "1bc13f26-ce99-4101-8d2a-ff8ff1f3107e",
   "metadata": {},
   "outputs": [
    {
     "name": "stdout",
     "output_type": "stream",
     "text": [
      "Number of Unique Origin airports: 289\n",
      "Number of Unique Destination airports: 289\n"
     ]
    }
   ],
   "source": [
    "#4\n",
    "u_origin_count = df['Origin'].nunique()\n",
    "u_dest_count = df['Dest'].nunique()\n",
    "print(\"Number of Unique Origin airports:\", u_origin_count)\n",
    "print(\"Number of Unique Destination airports:\", u_dest_count)\n"
   ]
  },
  {
   "cell_type": "code",
   "execution_count": 47,
   "id": "ec849d79-f913-44df-8daa-86e84df7924d",
   "metadata": {},
   "outputs": [
    {
     "data": {
      "image/png": "[encoded data removed]",
      "text/plain": [
       "<Figure size 640x480 with 1 Axes>"
      ]
     },
     "metadata": {},
     "output_type": "display_data"
    }
   ],
   "source": [
    "#5\n",
    "\n",
    "import matplotlib.pyplot as plt\n",
    "\n",
    "plt.scatter(df['Distance'], df['dep_delayed_15min'], alpha=0.1)\n",
    "plt.xlabel('Distance')\n",
    "plt.ylabel('dep_delayed_15min(1=Yes, 0=No)')\n",
    "plt.title('Scatter Plot of Distance vs. Delay')\n",
    "plt.show()\n",
    "\n"
   ]
  },
  {
   "cell_type": "code",
   "execution_count": 49,
   "id": "6ce937d2-6af1-4d5d-8e77-a9c2c5f79744",
   "metadata": {},
   "outputs": [
    {
     "name": "stdout",
     "output_type": "stream",
     "text": [
      "Average distance for delayed flights: nan\n",
      "Average distance for non-delayed flights: nan\n"
     ]
    }
   ],
   "source": [
    "#6\n",
    "average_distance_delayed = df[df['dep_delayed_15min'] == 1]['Distance'].mean()\n",
    "average_distance_not_delayed = df[df['dep_delayed_15min'] == 0]['Distance'].mean()\n",
    "print(\"Average distance for delayed flights:\", average_distance_delayed)\n",
    "print(\"Average distance for non-delayed flights:\", average_distance_not_delayed)\n"
   ]
  },
  {
   "cell_type": "code",
   "execution_count": 51,
   "id": "43c13d93-4b31-4365-a44d-9611523fc236",
   "metadata": {},
   "outputs": [],
   "source": [
    "#question 2 Beans Dataset\n"
   ]
  },
  {
   "cell_type": "code",
   "execution_count": 99,
   "id": "2398cebd-6eb6-4e4b-9a98-6cbcb9705740",
   "metadata": {},
   "outputs": [],
   "source": [
    "from sklearn.model_selection import train_test_split, GridSearchCV\n",
    "from sklearn.tree import DecisionTreeClassifier\n",
    "from sklearn.ensemble import RandomForestClassifier\n",
    "from sklearn.svm import SVC\n",
    "from sklearn.neighbors import KNeighborsClassifier\n",
    "from sklearn.preprocessing import StandardScaler, LabelEncoder\n",
    "from sklearn.metrics import accuracy_score, precision_score, recall_score, f1_score, confusion_matrix\n",
    "import seaborn as sns\n"
   ]
  },
  {
   "cell_type": "code",
   "execution_count": 117,
   "id": "336233dd-9603-47c1-9b8d-3658b9605676",
   "metadata": {},
   "outputs": [],
   "source": [
    "df = pd.read_csv(r\"C:\\Users\\adi33\\Downloads\\Dataset2(csv).csv\")"
   ]
  },
  {
   "cell_type": "code",
   "execution_count": 55,
   "id": "ca255206-55a7-4903-9c23-7e947410cb16",
   "metadata": {},
   "outputs": [
    {
     "data": {
      "text/html": [
       "<div>\n",
       "<style scoped>\n",
       "    .dataframe tbody tr th:only-of-type {\n",
       "        vertical-align: middle;\n",
       "    }\n",
       "\n",
       "    .dataframe tbody tr th {\n",
       "        vertical-align: top;\n",
       "    }\n",
       "\n",
       "    .dataframe thead th {\n",
       "        text-align: right;\n",
       "    }\n",
       "</style>\n",
       "<table border=\"1\" class=\"dataframe\">\n",
       "  <thead>\n",
       "    <tr style=\"text-align: right;\">\n",
       "      <th></th>\n",
       "      <th>Area</th>\n",
       "      <th>Perimeter</th>\n",
       "      <th>MajorAxisLength</th>\n",
       "      <th>MinorAxisLength</th>\n",
       "      <th>AspectRation</th>\n",
       "      <th>Eccentricity</th>\n",
       "      <th>ConvexArea</th>\n",
       "      <th>EquivDiameter</th>\n",
       "      <th>Extent</th>\n",
       "      <th>Solidity</th>\n",
       "      <th>roundness</th>\n",
       "      <th>Compactness</th>\n",
       "      <th>ShapeFactor1</th>\n",
       "      <th>ShapeFactor2</th>\n",
       "      <th>ShapeFactor3</th>\n",
       "      <th>ShapeFactor4</th>\n",
       "      <th>Class</th>\n",
       "    </tr>\n",
       "  </thead>\n",
       "  <tbody>\n",
       "    <tr>\n",
       "      <th>0</th>\n",
       "      <td>28395</td>\n",
       "      <td>610.291</td>\n",
       "      <td>208.178117</td>\n",
       "      <td>173.888747</td>\n",
       "      <td>1.197191</td>\n",
       "      <td>0.549812</td>\n",
       "      <td>28715.0</td>\n",
       "      <td>190.141097</td>\n",
       "      <td>0.763923</td>\n",
       "      <td>0.988856</td>\n",
       "      <td>0.958027</td>\n",
       "      <td>0.913358</td>\n",
       "      <td>0.007332</td>\n",
       "      <td>0.003147</td>\n",
       "      <td>0.834222</td>\n",
       "      <td>0.998724</td>\n",
       "      <td>SEKER</td>\n",
       "    </tr>\n",
       "    <tr>\n",
       "      <th>1</th>\n",
       "      <td>28734</td>\n",
       "      <td>638.018</td>\n",
       "      <td>200.524796</td>\n",
       "      <td>182.734419</td>\n",
       "      <td>1.097356</td>\n",
       "      <td>0.411785</td>\n",
       "      <td>29172.0</td>\n",
       "      <td>191.272751</td>\n",
       "      <td>0.783968</td>\n",
       "      <td>0.984986</td>\n",
       "      <td>0.887034</td>\n",
       "      <td>0.953861</td>\n",
       "      <td>0.006979</td>\n",
       "      <td>0.003564</td>\n",
       "      <td>0.909851</td>\n",
       "      <td>0.998430</td>\n",
       "      <td>SEKER</td>\n",
       "    </tr>\n",
       "    <tr>\n",
       "      <th>2</th>\n",
       "      <td>29380</td>\n",
       "      <td>624.110</td>\n",
       "      <td>212.826130</td>\n",
       "      <td>175.931143</td>\n",
       "      <td>1.209713</td>\n",
       "      <td>0.562727</td>\n",
       "      <td>29690.0</td>\n",
       "      <td>193.410904</td>\n",
       "      <td>0.778113</td>\n",
       "      <td>0.989559</td>\n",
       "      <td>0.947849</td>\n",
       "      <td>0.908774</td>\n",
       "      <td>0.007244</td>\n",
       "      <td>0.003048</td>\n",
       "      <td>0.825871</td>\n",
       "      <td>0.999066</td>\n",
       "      <td>SEKER</td>\n",
       "    </tr>\n",
       "    <tr>\n",
       "      <th>3</th>\n",
       "      <td>30008</td>\n",
       "      <td>645.884</td>\n",
       "      <td>210.557999</td>\n",
       "      <td>182.516516</td>\n",
       "      <td>1.153638</td>\n",
       "      <td>0.498616</td>\n",
       "      <td>30724.0</td>\n",
       "      <td>195.467062</td>\n",
       "      <td>0.782681</td>\n",
       "      <td>0.976696</td>\n",
       "      <td>0.903936</td>\n",
       "      <td>0.928329</td>\n",
       "      <td>0.007017</td>\n",
       "      <td>0.003215</td>\n",
       "      <td>0.861794</td>\n",
       "      <td>0.994199</td>\n",
       "      <td>SEKER</td>\n",
       "    </tr>\n",
       "    <tr>\n",
       "      <th>4</th>\n",
       "      <td>30140</td>\n",
       "      <td>620.134</td>\n",
       "      <td>201.847882</td>\n",
       "      <td>190.279279</td>\n",
       "      <td>1.060798</td>\n",
       "      <td>0.333680</td>\n",
       "      <td>30417.0</td>\n",
       "      <td>195.896503</td>\n",
       "      <td>0.773098</td>\n",
       "      <td>0.990893</td>\n",
       "      <td>0.984877</td>\n",
       "      <td>0.970516</td>\n",
       "      <td>0.006697</td>\n",
       "      <td>0.003665</td>\n",
       "      <td>0.941900</td>\n",
       "      <td>0.999166</td>\n",
       "      <td>SEKER</td>\n",
       "    </tr>\n",
       "  </tbody>\n",
       "</table>\n",
       "</div>"
      ],
      "text/plain": [
       "    Area  Perimeter  MajorAxisLength  MinorAxisLength  AspectRation  \\\n",
       "0  28395    610.291       208.178117       173.888747      1.197191   \n",
       "1  28734    638.018       200.524796       182.734419      1.097356   \n",
       "2  29380    624.110       212.826130       175.931143      1.209713   \n",
       "3  30008    645.884       210.557999       182.516516      1.153638   \n",
       "4  30140    620.134       201.847882       190.279279      1.060798   \n",
       "\n",
       "   Eccentricity  ConvexArea  EquivDiameter    Extent  Solidity  roundness  \\\n",
       "0      0.549812     28715.0     190.141097  0.763923  0.988856   0.958027   \n",
       "1      0.411785     29172.0     191.272751  0.783968  0.984986   0.887034   \n",
       "2      0.562727     29690.0     193.410904  0.778113  0.989559   0.947849   \n",
       "3      0.498616     30724.0     195.467062  0.782681  0.976696   0.903936   \n",
       "4      0.333680     30417.0     195.896503  0.773098  0.990893   0.984877   \n",
       "\n",
       "   Compactness  ShapeFactor1  ShapeFactor2  ShapeFactor3  ShapeFactor4  Class  \n",
       "0     0.913358      0.007332      0.003147      0.834222      0.998724  SEKER  \n",
       "1     0.953861      0.006979      0.003564      0.909851      0.998430  SEKER  \n",
       "2     0.908774      0.007244      0.003048      0.825871      0.999066  SEKER  \n",
       "3     0.928329      0.007017      0.003215      0.861794      0.994199  SEKER  \n",
       "4     0.970516      0.006697      0.003665      0.941900      0.999166  SEKER  "
      ]
     },
     "execution_count": 55,
     "metadata": {},
     "output_type": "execute_result"
    }
   ],
   "source": [
    "df.head()"
   ]
  },
  {
   "cell_type": "code",
   "execution_count": 57,
   "id": "83cdd33f-8163-4576-998c-35b45fc524b1",
   "metadata": {},
   "outputs": [
    {
     "name": "stdout",
     "output_type": "stream",
     "text": [
      "<class 'pandas.core.frame.DataFrame'>\n",
      "RangeIndex: 13611 entries, 0 to 13610\n",
      "Data columns (total 17 columns):\n",
      " #   Column           Non-Null Count  Dtype  \n",
      "---  ------           --------------  -----  \n",
      " 0   Area             13611 non-null  int64  \n",
      " 1   Perimeter        13611 non-null  float64\n",
      " 2   MajorAxisLength  13606 non-null  float64\n",
      " 3   MinorAxisLength  13609 non-null  float64\n",
      " 4   AspectRation     13608 non-null  float64\n",
      " 5   Eccentricity     13608 non-null  float64\n",
      " 6   ConvexArea       13610 non-null  float64\n",
      " 7   EquivDiameter    13611 non-null  float64\n",
      " 8   Extent           13608 non-null  float64\n",
      " 9   Solidity         13610 non-null  float64\n",
      " 10  roundness        13608 non-null  float64\n",
      " 11  Compactness      13609 non-null  float64\n",
      " 12  ShapeFactor1     13609 non-null  float64\n",
      " 13  ShapeFactor2     13611 non-null  float64\n",
      " 14  ShapeFactor3     13611 non-null  float64\n",
      " 15  ShapeFactor4     13611 non-null  float64\n",
      " 16  Class            13611 non-null  object \n",
      "dtypes: float64(15), int64(1), object(1)\n",
      "memory usage: 1.8+ MB\n"
     ]
    }
   ],
   "source": [
    "df.info()"
   ]
  },
  {
   "cell_type": "code",
   "execution_count": 59,
   "id": "626aedb5-3d87-4bd9-b93d-95474fa41190",
   "metadata": {},
   "outputs": [
    {
     "data": {
      "text/html": [
       "<div>\n",
       "<style scoped>\n",
       "    .dataframe tbody tr th:only-of-type {\n",
       "        vertical-align: middle;\n",
       "    }\n",
       "\n",
       "    .dataframe tbody tr th {\n",
       "        vertical-align: top;\n",
       "    }\n",
       "\n",
       "    .dataframe thead th {\n",
       "        text-align: right;\n",
       "    }\n",
       "</style>\n",
       "<table border=\"1\" class=\"dataframe\">\n",
       "  <thead>\n",
       "    <tr style=\"text-align: right;\">\n",
       "      <th></th>\n",
       "      <th>Area</th>\n",
       "      <th>Perimeter</th>\n",
       "      <th>MajorAxisLength</th>\n",
       "      <th>MinorAxisLength</th>\n",
       "      <th>AspectRation</th>\n",
       "      <th>Eccentricity</th>\n",
       "      <th>ConvexArea</th>\n",
       "      <th>EquivDiameter</th>\n",
       "      <th>Extent</th>\n",
       "      <th>Solidity</th>\n",
       "      <th>roundness</th>\n",
       "      <th>Compactness</th>\n",
       "      <th>ShapeFactor1</th>\n",
       "      <th>ShapeFactor2</th>\n",
       "      <th>ShapeFactor3</th>\n",
       "      <th>ShapeFactor4</th>\n",
       "    </tr>\n",
       "  </thead>\n",
       "  <tbody>\n",
       "    <tr>\n",
       "      <th>count</th>\n",
       "      <td>13611.000000</td>\n",
       "      <td>13611.000000</td>\n",
       "      <td>13606.000000</td>\n",
       "      <td>13609.000000</td>\n",
       "      <td>13608.000000</td>\n",
       "      <td>13608.000000</td>\n",
       "      <td>13610.000000</td>\n",
       "      <td>13611.000000</td>\n",
       "      <td>13608.000000</td>\n",
       "      <td>13610.000000</td>\n",
       "      <td>13608.000000</td>\n",
       "      <td>13609.000000</td>\n",
       "      <td>13609.000000</td>\n",
       "      <td>13611.000000</td>\n",
       "      <td>13611.000000</td>\n",
       "      <td>13611.000000</td>\n",
       "    </tr>\n",
       "    <tr>\n",
       "      <th>mean</th>\n",
       "      <td>53048.284549</td>\n",
       "      <td>855.283459</td>\n",
       "      <td>320.157483</td>\n",
       "      <td>202.271934</td>\n",
       "      <td>1.583306</td>\n",
       "      <td>0.750929</td>\n",
       "      <td>53769.027921</td>\n",
       "      <td>253.064220</td>\n",
       "      <td>0.749727</td>\n",
       "      <td>0.987143</td>\n",
       "      <td>0.873267</td>\n",
       "      <td>0.799845</td>\n",
       "      <td>0.006564</td>\n",
       "      <td>0.001716</td>\n",
       "      <td>0.643590</td>\n",
       "      <td>0.995063</td>\n",
       "    </tr>\n",
       "    <tr>\n",
       "      <th>std</th>\n",
       "      <td>29324.095717</td>\n",
       "      <td>214.289696</td>\n",
       "      <td>85.704732</td>\n",
       "      <td>44.973272</td>\n",
       "      <td>0.246650</td>\n",
       "      <td>0.091961</td>\n",
       "      <td>29775.853140</td>\n",
       "      <td>59.177120</td>\n",
       "      <td>0.049089</td>\n",
       "      <td>0.004660</td>\n",
       "      <td>0.059518</td>\n",
       "      <td>0.061695</td>\n",
       "      <td>0.001128</td>\n",
       "      <td>0.000596</td>\n",
       "      <td>0.098996</td>\n",
       "      <td>0.004366</td>\n",
       "    </tr>\n",
       "    <tr>\n",
       "      <th>min</th>\n",
       "      <td>20420.000000</td>\n",
       "      <td>524.736000</td>\n",
       "      <td>183.601165</td>\n",
       "      <td>122.512653</td>\n",
       "      <td>1.024868</td>\n",
       "      <td>0.218951</td>\n",
       "      <td>20684.000000</td>\n",
       "      <td>161.243764</td>\n",
       "      <td>0.555315</td>\n",
       "      <td>0.919246</td>\n",
       "      <td>0.489618</td>\n",
       "      <td>0.640577</td>\n",
       "      <td>0.002778</td>\n",
       "      <td>0.000564</td>\n",
       "      <td>0.410339</td>\n",
       "      <td>0.947687</td>\n",
       "    </tr>\n",
       "    <tr>\n",
       "      <th>25%</th>\n",
       "      <td>36328.000000</td>\n",
       "      <td>703.523500</td>\n",
       "      <td>253.301679</td>\n",
       "      <td>175.842829</td>\n",
       "      <td>1.432357</td>\n",
       "      <td>0.715952</td>\n",
       "      <td>36713.750000</td>\n",
       "      <td>215.068003</td>\n",
       "      <td>0.718631</td>\n",
       "      <td>0.985670</td>\n",
       "      <td>0.832053</td>\n",
       "      <td>0.762449</td>\n",
       "      <td>0.005900</td>\n",
       "      <td>0.001154</td>\n",
       "      <td>0.581359</td>\n",
       "      <td>0.993703</td>\n",
       "    </tr>\n",
       "    <tr>\n",
       "      <th>50%</th>\n",
       "      <td>44652.000000</td>\n",
       "      <td>794.941000</td>\n",
       "      <td>296.909450</td>\n",
       "      <td>192.431733</td>\n",
       "      <td>1.551132</td>\n",
       "      <td>0.764444</td>\n",
       "      <td>45189.000000</td>\n",
       "      <td>238.438026</td>\n",
       "      <td>0.759830</td>\n",
       "      <td>0.988283</td>\n",
       "      <td>0.883132</td>\n",
       "      <td>0.801243</td>\n",
       "      <td>0.006645</td>\n",
       "      <td>0.001694</td>\n",
       "      <td>0.642044</td>\n",
       "      <td>0.996386</td>\n",
       "    </tr>\n",
       "    <tr>\n",
       "      <th>75%</th>\n",
       "      <td>61332.000000</td>\n",
       "      <td>977.213000</td>\n",
       "      <td>376.507661</td>\n",
       "      <td>217.033886</td>\n",
       "      <td>1.707187</td>\n",
       "      <td>0.810485</td>\n",
       "      <td>62298.500000</td>\n",
       "      <td>279.446467</td>\n",
       "      <td>0.786851</td>\n",
       "      <td>0.990013</td>\n",
       "      <td>0.916853</td>\n",
       "      <td>0.834244</td>\n",
       "      <td>0.007272</td>\n",
       "      <td>0.002170</td>\n",
       "      <td>0.696006</td>\n",
       "      <td>0.997883</td>\n",
       "    </tr>\n",
       "    <tr>\n",
       "      <th>max</th>\n",
       "      <td>254616.000000</td>\n",
       "      <td>1985.370000</td>\n",
       "      <td>738.860154</td>\n",
       "      <td>460.198497</td>\n",
       "      <td>2.430306</td>\n",
       "      <td>0.911423</td>\n",
       "      <td>263261.000000</td>\n",
       "      <td>569.374358</td>\n",
       "      <td>0.866195</td>\n",
       "      <td>0.994677</td>\n",
       "      <td>0.990685</td>\n",
       "      <td>0.987303</td>\n",
       "      <td>0.010451</td>\n",
       "      <td>0.003665</td>\n",
       "      <td>0.974767</td>\n",
       "      <td>0.999733</td>\n",
       "    </tr>\n",
       "  </tbody>\n",
       "</table>\n",
       "</div>"
      ],
      "text/plain": [
       "                Area     Perimeter  MajorAxisLength  MinorAxisLength  \\\n",
       "count   13611.000000  13611.000000     13606.000000     13609.000000   \n",
       "mean    53048.284549    855.283459       320.157483       202.271934   \n",
       "std     29324.095717    214.289696        85.704732        44.973272   \n",
       "min     20420.000000    524.736000       183.601165       122.512653   \n",
       "25%     36328.000000    703.523500       253.301679       175.842829   \n",
       "50%     44652.000000    794.941000       296.909450       192.431733   \n",
       "75%     61332.000000    977.213000       376.507661       217.033886   \n",
       "max    254616.000000   1985.370000       738.860154       460.198497   \n",
       "\n",
       "       AspectRation  Eccentricity     ConvexArea  EquivDiameter        Extent  \\\n",
       "count  13608.000000  13608.000000   13610.000000   13611.000000  13608.000000   \n",
       "mean       1.583306      0.750929   53769.027921     253.064220      0.749727   \n",
       "std        0.246650      0.091961   29775.853140      59.177120      0.049089   \n",
       "min        1.024868      0.218951   20684.000000     161.243764      0.555315   \n",
       "25%        1.432357      0.715952   36713.750000     215.068003      0.718631   \n",
       "50%        1.551132      0.764444   45189.000000     238.438026      0.759830   \n",
       "75%        1.707187      0.810485   62298.500000     279.446467      0.786851   \n",
       "max        2.430306      0.911423  263261.000000     569.374358      0.866195   \n",
       "\n",
       "           Solidity     roundness   Compactness  ShapeFactor1  ShapeFactor2  \\\n",
       "count  13610.000000  13608.000000  13609.000000  13609.000000  13611.000000   \n",
       "mean       0.987143      0.873267      0.799845      0.006564      0.001716   \n",
       "std        0.004660      0.059518      0.061695      0.001128      0.000596   \n",
       "min        0.919246      0.489618      0.640577      0.002778      0.000564   \n",
       "25%        0.985670      0.832053      0.762449      0.005900      0.001154   \n",
       "50%        0.988283      0.883132      0.801243      0.006645      0.001694   \n",
       "75%        0.990013      0.916853      0.834244      0.007272      0.002170   \n",
       "max        0.994677      0.990685      0.987303      0.010451      0.003665   \n",
       "\n",
       "       ShapeFactor3  ShapeFactor4  \n",
       "count  13611.000000  13611.000000  \n",
       "mean       0.643590      0.995063  \n",
       "std        0.098996      0.004366  \n",
       "min        0.410339      0.947687  \n",
       "25%        0.581359      0.993703  \n",
       "50%        0.642044      0.996386  \n",
       "75%        0.696006      0.997883  \n",
       "max        0.974767      0.999733  "
      ]
     },
     "execution_count": 59,
     "metadata": {},
     "output_type": "execute_result"
    }
   ],
   "source": [
    "df.describe()"
   ]
  },
  {
   "cell_type": "code",
   "execution_count": null,
   "id": "36bbff8d-f71a-4614-9f32-e352a9b7eb24",
   "metadata": {},
   "outputs": [],
   "source": [
    "#DATA PREPROCESSING"
   ]
  },
  {
   "cell_type": "code",
   "execution_count": 61,
   "id": "b9f88c58-0eb6-41b4-98aa-f63201b04dd1",
   "metadata": {},
   "outputs": [
    {
     "data": {
      "text/plain": [
       "Area               0\n",
       "Perimeter          0\n",
       "MajorAxisLength    5\n",
       "MinorAxisLength    2\n",
       "AspectRation       3\n",
       "Eccentricity       3\n",
       "ConvexArea         1\n",
       "EquivDiameter      0\n",
       "Extent             3\n",
       "Solidity           1\n",
       "roundness          3\n",
       "Compactness        2\n",
       "ShapeFactor1       2\n",
       "ShapeFactor2       0\n",
       "ShapeFactor3       0\n",
       "ShapeFactor4       0\n",
       "Class              0\n",
       "dtype: int64"
      ]
     },
     "execution_count": 61,
     "metadata": {},
     "output_type": "execute_result"
    }
   ],
   "source": [
    "df.isna().sum()"
   ]
  },
  {
   "cell_type": "code",
   "execution_count": 83,
   "id": "65659aa6-663e-4bdb-a2a5-0e7b95a4d10f",
   "metadata": {},
   "outputs": [],
   "source": [
    "numeric_cols = df.select_dtypes(include=['number']).columns\n",
    "df[numeric_cols] = df[numeric_cols].fillna(df[numeric_cols].mean())\n"
   ]
  },
  {
   "cell_type": "code",
   "execution_count": 87,
   "id": "f301698c-fcac-4fa4-9767-e4d32a1802c9",
   "metadata": {},
   "outputs": [],
   "source": [
    "label_enc = LabelEncoder()\n",
    "df['Class'] = label_enc.fit_transform(df['Class'])"
   ]
  },
  {
   "cell_type": "code",
   "execution_count": 89,
   "id": "a85f4717-ff9d-4aee-b821-a1f66f097bb4",
   "metadata": {},
   "outputs": [],
   "source": [
    "X = df.drop(columns=['Class'])\n",
    "y = df['Class']"
   ]
  },
  {
   "cell_type": "code",
   "execution_count": 91,
   "id": "a9966f60-8783-482b-b096-0ba35e799a4f",
   "metadata": {},
   "outputs": [],
   "source": [
    "scaler = StandardScaler()\n",
    "X_scaled = scaler.fit_transform(X)"
   ]
  },
  {
   "cell_type": "code",
   "execution_count": 93,
   "id": "c79a3d8d-0788-4ccd-b6e5-e5b4d4d0add1",
   "metadata": {},
   "outputs": [],
   "source": [
    "X_train, X_test, y_train, y_test = train_test_split(X_scaled, y, test_size=0.2, random_state=42)\n"
   ]
  },
  {
   "cell_type": "code",
   "execution_count": 95,
   "id": "391fdb0d-2863-4588-a7c5-642f0f3709be",
   "metadata": {},
   "outputs": [
    {
     "name": "stdout",
     "output_type": "stream",
     "text": [
      "\n",
      "Decision Tree Results:\n",
      "Accuracy: 0.8905618802791039\n",
      "Precision: 0.8910086383065979\n",
      "Recall: 0.8905618802791039\n",
      "F1 Score: 0.8907406261855789\n",
      "Confusion Matrix:\n",
      " [[228   0  23   0   1   2   7]\n",
      " [  0 117   0   0   0   0   0]\n",
      " [ 23   0 285   0   8   0   1]\n",
      " [  1   0   0 592   4  11  63]\n",
      " [  5   0  12   3 379   0   9]\n",
      " [  3   0   0  21   0 377  12]\n",
      " [  7   0   1  58   9  14 447]]\n",
      "\n",
      "Random Forest Results:\n",
      "Accuracy: 0.922879177377892\n",
      "Precision: 0.9234319703080054\n",
      "Recall: 0.922879177377892\n",
      "F1 Score: 0.9230720666251189\n",
      "Confusion Matrix:\n",
      " [[236   0  17   0   1   1   6]\n",
      " [  0 117   0   0   0   0   0]\n",
      " [ 16   0 296   0   3   1   1]\n",
      " [  0   0   0 616   2   5  48]\n",
      " [  3   0   5   2 391   0   7]\n",
      " [  3   0   0  14   0 387   9]\n",
      " [  0   0   1  54   6   5 470]]\n",
      "\n",
      "Support Vector Machine Results:\n",
      "Accuracy: 0.9331619537275064\n",
      "Precision: 0.933662010961743\n",
      "Recall: 0.9331619537275064\n",
      "F1 Score: 0.9333492160194374\n",
      "Confusion Matrix:\n",
      " [[240   0  14   0   0   1   6]\n",
      " [  0 117   0   0   0   0   0]\n",
      " [ 11   0 300   0   4   1   1]\n",
      " [  0   0   0 621   0   6  44]\n",
      " [  2   0   5   4 391   0   6]\n",
      " [  3   0   0  10   0 392   8]\n",
      " [  1   0   0  46   5   4 480]]\n",
      "\n",
      "K-Nearest Neighbors Results:\n",
      "Accuracy: 0.922879177377892\n",
      "Precision: 0.9239506365923527\n",
      "Recall: 0.922879177377892\n",
      "F1 Score: 0.9231708772330837\n",
      "Confusion Matrix:\n",
      " [[235   0  18   0   0   1   7]\n",
      " [  0 117   0   0   0   0   0]\n",
      " [  4   0 304   0   5   1   3]\n",
      " [  0   0   0 611   1   5  54]\n",
      " [  0   0   9   4 389   0   6]\n",
      " [  3   0   0  11   0 390   9]\n",
      " [  2   0   1  58   4   4 467]]\n"
     ]
    }
   ],
   "source": [
    "#MODEL SELECTION\n",
    "\n",
    "\n",
    "models = {\n",
    "    'Decision Tree': DecisionTreeClassifier(),\n",
    "    'Random Forest': RandomForestClassifier(),\n",
    "    'Support Vector Machine': SVC(),\n",
    "    'K-Nearest Neighbors': KNeighborsClassifier()\n",
    "}\n",
    "\n",
    "\n",
    "for model_name, model in models.items():\n",
    "    model.fit(X_train, y_train)\n",
    "    y_pred = model.predict(X_test)\n",
    "    print(f\"\\n{model_name} Results:\")\n",
    "    print(\"Accuracy:\", accuracy_score(y_test, y_pred))\n",
    "    print(\"Precision:\", precision_score(y_test, y_pred, average='weighted'))\n",
    "    print(\"Recall:\", recall_score(y_test, y_pred, average='weighted'))\n",
    "    print(\"F1 Score:\", f1_score(y_test, y_pred, average='weighted'))\n",
    "    print(\"Confusion Matrix:\\n\", confusion_matrix(y_test, y_pred))\n"
   ]
  },
  {
   "cell_type": "code",
   "execution_count": 101,
   "id": "869d6309-62b2-4175-a949-a55ff0b5e673",
   "metadata": {},
   "outputs": [
    {
     "data": {
      "image/png": "[encoded data removed]",
      "text/plain": [
       "<Figure size 640x480 with 2 Axes>"
      ]
     },
     "metadata": {},
     "output_type": "display_data"
    }
   ],
   "source": [
    "#MODEL EVALUATION\n",
    "\n",
    "best_model = models['Random Forest']\n",
    "y_pred = best_model.predict(X_test)\n",
    "\n",
    "conf_matrix = confusion_matrix(y_test, y_pred)\n",
    "sns.heatmap(conf_matrix, annot=True, fmt='d', cmap='Blues')\n",
    "plt.xlabel('Predicted')\n",
    "plt.ylabel('Actual')\n",
    "plt.title('Confusion Matrix for Random Forest')\n",
    "plt.show()\n"
   ]
  },
  {
   "cell_type": "code",
   "execution_count": 103,
   "id": "f1f5e754-2918-41a8-b009-6fbabb8947ba",
   "metadata": {},
   "outputs": [
    {
     "data": {
      "image/png": "[encoded data removed]",
      "text/plain": [
       "<Figure size 1000x600 with 1 Axes>"
      ]
     },
     "metadata": {},
     "output_type": "display_data"
    }
   ],
   "source": [
    "#FEATURE IMPORTANCE\n",
    "\n",
    "feature_importances = best_model.feature_importances_\n",
    "features = X.columns\n",
    "importance_df = pd.DataFrame({'Feature': features, 'Importance': feature_importances})\n",
    "importance_df = importance_df.sort_values(by='Importance', ascending=False)\n",
    "\n",
    "\n",
    "plt.figure(figsize=(10, 6))\n",
    "sns.barplot(x='Importance', y='Feature', data=importance_df)\n",
    "plt.title('Feature Importances from Random Forest')\n",
    "plt.show()\n"
   ]
  },
  {
   "cell_type": "code",
   "execution_count": 107,
   "id": "896deb74-b227-443f-858e-f30a7c49acf3",
   "metadata": {},
   "outputs": [
    {
     "name": "stdout",
     "output_type": "stream",
     "text": [
      "Best Parameters: {'max_depth': None, 'min_samples_split': 10, 'n_estimators': 200}\n",
      "Best Cross-Validation Score: 0.9235857130624743\n",
      "\n",
      "Tuned Model Performance:\n",
      "Accuracy: 0.9261843554902681\n",
      "Precision: 0.9266480106840992\n",
      "Recall: 0.9261843554902681\n",
      "F1 Score: 0.9263227291488391\n"
     ]
    }
   ],
   "source": [
    "#HYPERPARAMETER TUNING\n",
    "\n",
    "param_grid = {\n",
    "    'n_estimators': [50, 100, 200],\n",
    "    'max_depth': [None, 10, 20, 30],\n",
    "    'min_samples_split': [2, 5, 10]\n",
    "}\n",
    "\n",
    "grid_search = GridSearchCV(RandomForestClassifier(), param_grid, cv=5, scoring='accuracy', n_jobs=-1)\n",
    "grid_search.fit(X_train, y_train)\n",
    "\n",
    "print(\"Best Parameters:\", grid_search.best_params_)\n",
    "print(\"Best Cross-Validation Score:\", grid_search.best_score_)\n",
    "\n",
    "best_rf_model = grid_search.best_estimator_\n",
    "y_pred_tuned = best_rf_model.predict(X_test)\n",
    "\n",
    "print(\"\\nTuned Model Performance:\")\n",
    "print(\"Accuracy:\", accuracy_score(y_test, y_pred_tuned))\n",
    "print(\"Precision:\", precision_score(y_test, y_pred_tuned, average='weighted'))\n",
    "print(\"Recall:\", recall_score(y_test, y_pred_tuned, average='weighted'))\n",
    "print(\"F1 Score:\", f1_score(y_test, y_pred_tuned, average='weighted'))\n"
   ]
  },
  {
   "cell_type": "code",
   "execution_count": null,
   "id": "7a5d65f3-62bb-4de1-9a22-01ca3dcdf849",
   "metadata": {},
   "outputs": [],
   "source": []
  }
 ],
 "metadata": {
  "kernelspec": {
   "display_name": "Python 3 (ipykernel)",
   "language": "python",
   "name": "python3"
  },
  "language_info": {
   "codemirror_mode": {
    "name": "ipython",
    "version": 3
   },
   "file_extension": ".py",
   "mimetype": "text/x-python",
   "name": "python",
   "nbconvert_exporter": "python",
   "pygments_lexer": "ipython3",
   "version": "3.12.4"
  }
 },
 "nbformat": 4,
 "nbformat_minor": 5
}
